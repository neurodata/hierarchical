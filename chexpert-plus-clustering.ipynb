{
 "cells": [
  {
   "cell_type": "code",
   "execution_count": 14,
   "metadata": {},
   "outputs": [],
   "source": [
    "import numpy as np\n",
    "import pandas as pd\n",
    "\n",
    "from sklearn.model_selection import train_test_split\n",
    "from sklearn.decomposition import PCA\n",
    "\n",
    "from joblib import Parallel, delayed\n",
    "import pickle\n",
    "import time\n",
    "from tqdm import tqdm\n",
    "import os"
   ]
  },
  {
   "cell_type": "code",
   "execution_count": 3,
   "metadata": {},
   "outputs": [],
   "source": [
    "data = pickle.load(open('../hierarchical/train_frontal_Bit_m-r101x1_with_labels.p', 'rb'))"
   ]
  },
  {
   "cell_type": "code",
   "execution_count": 4,
   "metadata": {},
   "outputs": [],
   "source": [
    "X_all = np.array([vec for vec in data['vector']])\n",
    "\n",
    "category_indices = np.array([6,8,10,11,12,13,14,15,16,17,18])\n",
    "category_indices = np.array([6,8,10,11,12,13,14,15,16,17,18])\n",
    "\n",
    "conditions = np.array(list(data.iloc[0, category_indices].keys()))\n",
    "\n",
    "competition_conditions = ['No Finding', 'Atelectasis', 'Cardiomegaly', 'Consolidation', 'Edema', 'Pleural Effusion']\n",
    "competition_conditions_indices = [category_indices[np.where(conditions == c)[0][0]] for c in competition_conditions]\n",
    "\n",
    "##- Comment out if we want to use entire dataset\n",
    "# category_indices = competition_conditions_indices.copy()\n",
    "# conditions = competition_conditions.copy()\n",
    "\n",
    "labels = np.arange(len(conditions))\n",
    "\n",
    "n, d = X_all.shape\n",
    "y_all = np.zeros(n)\n",
    "\n",
    "fly_list = []\n",
    "for i in range(n):\n",
    "    temp_conditions = data.iloc[i, category_indices]\n",
    "    positive_conditions = np.where(temp_conditions.values.astype(int) > 0)[0]\n",
    "    \n",
    "    if len(positive_conditions) > 1:\n",
    "        temp_competition_condition_indices = []\n",
    "        for pc in positive_conditions:\n",
    "            if pc in competition_conditions_indices:\n",
    "                temp_competition_condition_indices.append(pc)\n",
    "        if len(temp_competition_condition_indices) == 1:\n",
    "            y_all[i] = temp_competition_condition_indices[0]\n",
    "            fly_list.append(i)\n",
    "    elif len(positive_conditions) == 1:\n",
    "        y_all[i] = positive_conditions[0]\n",
    "        fly_list.append(i)\n",
    "        \n",
    "fly_list = np.array(fly_list)\n",
    "X = X_all[fly_list]\n",
    "y = y_all[fly_list]"
   ]
  },
  {
   "cell_type": "code",
   "execution_count": 6,
   "metadata": {},
   "outputs": [
    {
     "name": "stdout",
     "output_type": "stream",
     "text": [
      "total: 132490\n",
      "No Finding 16974\n",
      "Cardiomegaly 5507\n",
      "Lung Lesion 2442\n",
      "Edema 13744\n",
      "Consolidation 3294\n",
      "Pneumonia 1583\n",
      "Atelectasis 15131\n",
      "Pneumothorax 7598\n",
      "Pleural Effusion 62310\n",
      "Pleural Other 922\n",
      "Fracture 2985\n"
     ]
    }
   ],
   "source": [
    "idx_by_label = [np.where(y == c)[0] for c in labels]\n",
    "print(\"total:\", len(y))\n",
    "\n",
    "for i, ibl in enumerate(idx_by_label):\n",
    "    print(conditions[i], len(ibl))"
   ]
  },
  {
   "cell_type": "code",
   "execution_count": 9,
   "metadata": {},
   "outputs": [
    {
     "name": "stderr",
     "output_type": "stream",
     "text": [
      "  0%|          | 0/1 [00:00<?, ?it/s]\n",
      "  0%|          | 0/11 [00:00<?, ?it/s]\u001b[A/home/hayden-vm/.local/lib/python3.6/site-packages/sklearn/mixture/_base.py:269: ConvergenceWarning: Initialization 1 did not converge. Try different init parameters, or increase max_iter, tol or check for degenerate data.\n",
      "  % (init + 1), ConvergenceWarning)\n",
      "\n",
      "  9%|▉         | 1/11 [01:48<18:02, 108.23s/it]\u001b[A\n",
      " 18%|█▊        | 2/11 [02:14<12:33, 83.69s/it] \u001b[A\n",
      " 27%|██▋       | 3/11 [02:26<08:17, 62.23s/it]\u001b[A\n",
      " 36%|███▋      | 4/11 [03:45<07:50, 67.14s/it]\u001b[A\n",
      " 45%|████▌     | 5/11 [03:59<05:06, 51.10s/it]\u001b[A\n",
      " 55%|█████▍    | 6/11 [04:09<03:13, 38.75s/it]\u001b[A\n",
      " 64%|██████▎   | 7/11 [05:48<03:47, 56.87s/it]\u001b[A\n",
      " 73%|███████▎  | 8/11 [06:33<02:40, 53.36s/it]\u001b[A\n",
      " 82%|████████▏ | 9/11 [18:08<08:11, 245.98s/it]\u001b[A\n",
      " 91%|█████████ | 10/11 [18:16<02:54, 174.51s/it]\u001b[A\n",
      "100%|██████████| 11/11 [18:28<00:00, 100.75s/it]\u001b[A\n",
      "100%|██████████| 1/1 [19:10<00:00, 1150.95s/it]\n"
     ]
    }
   ],
   "source": [
    "# from graspologic.cluster import AutoGMMCluster as GMM\n",
    "from graspologic.cluster import GaussianCluster as GMM\n",
    "\n",
    "n_iter=1\n",
    "master_seed = 42\n",
    "np.random.seed(master_seed)\n",
    "seeds = np.random.randint(10000, size=n_iter)\n",
    "\n",
    "cluster_dics = []\n",
    "class_cond_clusters = []\n",
    "\n",
    "\n",
    "for iteration in tqdm(range(n_iter)):\n",
    "    start = time.time()\n",
    "    seed =  seeds[iteration]\n",
    "    train_inds, _, _, _ = train_test_split(np.arange(len(fly_list)), y, test_size=0.5, random_state=seed)\n",
    "    \n",
    "    X_train, y_train = X[train_inds], y[train_inds]\n",
    "        \n",
    "    idx_by_label = [np.where(y_train == c)[0] for c in labels]\n",
    "    \n",
    "    clusters = [np.zeros(len(ibl)) for ibl in idx_by_label]\n",
    "    for i, ibl in enumerate(tqdm(idx_by_label)):\n",
    "        clusters[i] = GMM(min_components=5, max_components=5, reg_covar=1e-3).fit_predict(X_train[ibl])\n",
    "        \n",
    "    idx_by_induced_label = []\n",
    "    for i,c in enumerate(clusters):\n",
    "        for j in np.unique(c):\n",
    "            idx_by_induced_label.append(idx_by_label[i][np.where(c == j)[0]])\n",
    "            \n",
    "    y_induced = np.zeros(X_train.shape[0], dtype='int')\n",
    "    for i, c in enumerate(idx_by_induced_label):\n",
    "        y_induced[c] = i\n",
    "        \n",
    "        \n",
    "    class_clusters_dic = {}\n",
    "    \n",
    "    for i, file_name in enumerate(list(data['Path'])):\n",
    "        if i in fly_list[train_inds]:\n",
    "            ind = np.where(fly_list[train_inds] == i)[0][0]\n",
    "            class_clusters_dic[file_name] = y_induced[ind]\n",
    "            \n",
    "    cluster_dics.append(class_clusters_dic)\n",
    "    \n",
    "    data_dimension=128\n",
    "        \n",
    "    pca = PCA(n_components=data_dimension)\n",
    "    pca.fit(X_train)\n",
    "    X_train = pca.transform(X_train)\n",
    "\n",
    "    unique_y = np.unique(y_induced)\n",
    "\n",
    "    conditional_means = np.array([np.mean(X_train[np.where(y_induced == c)[0]], axis=0) for c in unique_y])\n",
    "\n",
    "    gmm = GMM(min_components=5, max_components=5, reg_covar=1e-3)\n",
    "\n",
    "    class_cond_clusters.append(gmm.fit_predict(conditional_means))"
   ]
  },
  {
   "cell_type": "code",
   "execution_count": 13,
   "metadata": {},
   "outputs": [],
   "source": [
    "pickle.dump(cluster_dics, open('mini_classes.pkl', 'wb'))\n",
    "pickle.dump(class_cond_clusters, open('class_conditional_clusters.pkl', 'wb'))"
   ]
  },
  {
   "cell_type": "code",
   "execution_count": 139,
   "metadata": {},
   "outputs": [],
   "source": [
    "conditions_to_induced_label_dic= {}\n",
    "for i, cond in enumerate(conditions):\n",
    "    for j in range(10):\n",
    "        conditions_to_induced_label_dic[i*5 + j] = cond"
   ]
  },
  {
   "cell_type": "code",
   "execution_count": 141,
   "metadata": {},
   "outputs": [],
   "source": [
    "pickle.dump(conditions_to_induced_label_dic, open('conditions_to_induced_label_dic.pkl', 'wb'))"
   ]
  }
 ],
 "metadata": {
  "kernelspec": {
   "display_name": "Python 3",
   "language": "python",
   "name": "python3"
  },
  "language_info": {
   "codemirror_mode": {
    "name": "ipython",
    "version": 3
   },
   "file_extension": ".py",
   "mimetype": "text/x-python",
   "name": "python",
   "nbconvert_exporter": "python",
   "pygments_lexer": "ipython3",
   "version": "3.6.9"
  }
 },
 "nbformat": 4,
 "nbformat_minor": 4
}
