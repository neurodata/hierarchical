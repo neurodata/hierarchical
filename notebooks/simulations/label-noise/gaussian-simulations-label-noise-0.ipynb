{
 "cells": [
  {
   "cell_type": "code",
   "execution_count": 4,
   "metadata": {},
   "outputs": [],
   "source": [
    "import numpy as np\n",
    "import matplotlib.pyplot as plt\n",
    "\n",
    "from hierarchical import HierarchicalForest\n",
    "from sklearn.ensemble import RandomForestClassifier as RF\n",
    "\n",
    "from tqdm import tqdm\n",
    "\n",
    "from joblib import Parallel, delayed"
   ]
  },
  {
   "cell_type": "code",
   "execution_count": 5,
   "metadata": {},
   "outputs": [],
   "source": [
    "def generate_hierarchical_gaussian_data(n_clusts=2, n_dists_per_clust=2, d=2, clust_cov=1, n_train=25, n_test=100, dist_cov=0.5, acorn=None):\n",
    "    if acorn is not None:\n",
    "        np.random.seed(acorn)\n",
    "    \n",
    "    all_means = [\n",
    "        np.array([1,1]),\n",
    "        np.array([-1,-1]),\n",
    "        np.array([1, -1]),\n",
    "        np.array([-1, 1])\n",
    "    ]\n",
    "    \n",
    "    clust_means = all_means[:n_clusts]\n",
    "    clust_cov = clust_cov * np.eye(d)\n",
    "    \n",
    "    dist_means = [np.random.multivariate_normal(clust_means[i], clust_cov, size=n_dists_per_clust) for i in range(n_clusts)]\n",
    "\n",
    "        \n",
    "    dist_cov = dist_cov * np.eye(d)\n",
    "    \n",
    "    train_data = np.concatenate(np.concatenate([\n",
    "        [np.random.multivariate_normal(dist_means[i][j], dist_cov, size=n_train) for j in range(n_dists_per_clust)] \n",
    "            for i in range(n_clusts)]))\n",
    "    y_train = np.concatenate([i * np.ones(n_train) for i in range(n_dists_per_clust * n_clusts)])\n",
    "    \n",
    "    test_data = np.concatenate(np.concatenate([\n",
    "        [np.random.multivariate_normal(dist_means[i][j], dist_cov, size=n_test) for j in range(n_dists_per_clust)] \n",
    "            for i in range(n_clusts)]))\n",
    "    y_test = np.concatenate([i * np.ones(n_test) for i in range(n_dists_per_clust * n_clusts)])\n",
    "            \n",
    "    return train_data, y_train, test_data, y_test"
   ]
  },
  {
   "cell_type": "code",
   "execution_count": 6,
   "metadata": {},
   "outputs": [],
   "source": [
    "def label_noise_exp(label_noise=0, n_train=25, n_test=100, n_clusts=4, n_dists_per_clust=8):\n",
    "    \n",
    "    accuracies = np.zeros(2)\n",
    "    x_train, y_train, x_test, y_test = generate_hierarchical_gaussian_data(n_clusts=n_clusts, n_dists_per_clust=n_dists_per_clust, d=2, clust_cov=1,\n",
    "                                                                          n_train=25, n_test=100, dist_cov=0.5)\n",
    "    \n",
    "    idx_to_change = np.random.binomial(1, p=label_noise, size=n_train * n_clusts * n_dists_per_clust).astype(bool)\n",
    "    new_labels = np.array([np.random.choice(np.unique(y_train), size=1)[0] for bool_ in idx_to_change if bool_])\n",
    "    \n",
    "    y_train[idx_to_change] = new_labels\n",
    "    \n",
    "    fine_to_coarse = np.concatenate([i * np.ones(n_dists_per_clust) for i in range(n_clusts)])\n",
    "    hf = HierarchicalForest(fine_to_coarse=fine_to_coarse, n_estimators_coarse=25, n_estimators_fine=50, max_depth=None)\n",
    "    hf.fit(x_train, y_train)\n",
    "    accuracies[0] = np.mean(hf.predict(x_test) == y_test)\n",
    "    \n",
    "    rf = RF(n_estimators=225)\n",
    "    rf.fit(x_train, y_train)\n",
    "    accuracies[1] = np.mean(rf.predict(x_test)  == y_test)\n",
    "    \n",
    "    return accuracies"
   ]
  },
  {
   "cell_type": "code",
   "execution_count": 7,
   "metadata": {},
   "outputs": [
    {
     "name": "stderr",
     "output_type": "stream",
     "text": [
      "100%|██████████| 6/6 [01:22<00:00, 13.73s/it]\n"
     ]
    }
   ],
   "source": [
    "np.random.seed(1)\n",
    "\n",
    "n_clusts=4\n",
    "n_dists_per_clust = 4\n",
    "\n",
    "n_train=25\n",
    "n_test=100\n",
    "\n",
    "label_noise_list = [0, 0.1, 0.2, 0.3, 0.5, 0.8]\n",
    "\n",
    "n_cores=10\n",
    "\n",
    "accuracies = []\n",
    "\n",
    "n_mc=100\n",
    "for i, p in enumerate(tqdm(label_noise_list)):\n",
    "    f = lambda x: label_noise_exp(p, n_train, n_test, n_clusts, n_dists_per_clust)\n",
    "    accuracies.append(Parallel(n_jobs=n_cores)(delayed(f)(_) for _ in range(n_mc)))\n",
    "    \n",
    "accuracies = np.array(accuracies)"
   ]
  },
  {
   "cell_type": "code",
   "execution_count": 10,
   "metadata": {},
   "outputs": [
    {
     "data": {
      "text/plain": [
       "[<matplotlib.axis.YTick at 0x7f1874a95278>,\n",
       " <matplotlib.axis.YTick at 0x7f1874803828>,\n",
       " <matplotlib.axis.YTick at 0x7f1874598c88>,\n",
       " <matplotlib.axis.YTick at 0x7f187459c6d8>,\n",
       " <matplotlib.axis.YTick at 0x7f187475acc0>]"
      ]
     },
     "execution_count": 10,
     "metadata": {},
     "output_type": "execute_result"
    },
    {
     "data": {
      "image/png": "[encoded data removed]",
      "text/plain": [
       "<Figure size 432x288 with 1 Axes>"
      ]
     },
     "metadata": {
      "needs_background": "light"
     },
     "output_type": "display_data"
    }
   ],
   "source": [
    "mean_le = np.mean(accuracies[:, :, 0] / accuracies[:, :, 1], axis=1)\n",
    "std_le = np.std(accuracies[:, :, 0] / accuracies[:, :, 1], axis=1) / np.sqrt(n_mc)\n",
    "\n",
    "fig, ax = plt.subplots(1,1)\n",
    "\n",
    "ax.errorbar(label_noise_list, mean_le, yerr=std_le)\n",
    "\n",
    "ax.set_title('Label noise in Hierarchical Gaussian settings')\n",
    "ax.set_ylabel('learning effiency (acc)')\n",
    "\n",
    "ax.set_xticks(label_noise_list)\n",
    "ax.set_yticks([1, 1.02, 1.04, 1.06, 1.08])"
   ]
  },
  {
   "cell_type": "code",
   "execution_count": null,
   "metadata": {},
   "outputs": [],
   "source": []
  }
 ],
 "metadata": {
  "kernelspec": {
   "display_name": "bci",
   "language": "python",
   "name": "bci"
  },
  "language_info": {
   "codemirror_mode": {
    "name": "ipython",
    "version": 3
   },
   "file_extension": ".py",
   "mimetype": "text/x-python",
   "name": "python",
   "nbconvert_exporter": "python",
   "pygments_lexer": "ipython3",
   "version": "3.6.9"
  }
 },
 "nbformat": 4,
 "nbformat_minor": 4
}
